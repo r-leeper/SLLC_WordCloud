{
 "cells": [
  {
   "cell_type": "markdown",
   "source": [
    "# Lifestyle Eastfield Word Cloud"
   ],
   "metadata": {
    "collapsed": false
   },
   "id": "b97a2b216c516294"
  },
  {
   "cell_type": "markdown",
   "source": [
    "I work for South Lanarkshire Leisure and Culture and I thought it would be interesting to see a word cloud based on the reviews of my center!"
   ],
   "metadata": {
    "collapsed": false
   },
   "id": "1828b13e6be67376"
  },
  {
   "cell_type": "code",
   "execution_count": 1,
   "outputs": [],
   "source": [
    "# Imports\n",
    "import pandas as pd\n",
    "from wordcloud import WordCloud"
   ],
   "metadata": {
    "collapsed": false,
    "ExecuteTime": {
     "end_time": "2023-11-07T22:01:04.378330744Z",
     "start_time": "2023-11-07T22:01:04.044689044Z"
    }
   },
   "id": "da5dd065f8f608d6"
  },
  {
   "cell_type": "code",
   "execution_count": 2,
   "outputs": [
    {
     "data": {
      "text/plain": "                           query                                   name  \\\n0    ChIJOVCiih9BiEgRDFplzO_7bOM  South Lanarkshire Lifestyle Eastfield   \n1    ChIJOVCiih9BiEgRDFplzO_7bOM  South Lanarkshire Lifestyle Eastfield   \n2    ChIJOVCiih9BiEgRDFplzO_7bOM  South Lanarkshire Lifestyle Eastfield   \n3    ChIJOVCiih9BiEgRDFplzO_7bOM  South Lanarkshire Lifestyle Eastfield   \n4    ChIJOVCiih9BiEgRDFplzO_7bOM  South Lanarkshire Lifestyle Eastfield   \n..                           ...                                    ...   \n212  ChIJOVCiih9BiEgRDFplzO_7bOM  South Lanarkshire Lifestyle Eastfield   \n213  ChIJOVCiih9BiEgRDFplzO_7bOM  South Lanarkshire Lifestyle Eastfield   \n214  ChIJOVCiih9BiEgRDFplzO_7bOM  South Lanarkshire Lifestyle Eastfield   \n215  ChIJOVCiih9BiEgRDFplzO_7bOM  South Lanarkshire Lifestyle Eastfield   \n216  ChIJOVCiih9BiEgRDFplzO_7bOM  South Lanarkshire Lifestyle Eastfield   \n\n                                 google_id                     place_id  \\\n0    0x4888411f8aa25039:0xe36cfbefcc655a0c  ChIJOVCiih9BiEgRDFplzO_7bOM   \n1    0x4888411f8aa25039:0xe36cfbefcc655a0c  ChIJOVCiih9BiEgRDFplzO_7bOM   \n2    0x4888411f8aa25039:0xe36cfbefcc655a0c  ChIJOVCiih9BiEgRDFplzO_7bOM   \n3    0x4888411f8aa25039:0xe36cfbefcc655a0c  ChIJOVCiih9BiEgRDFplzO_7bOM   \n4    0x4888411f8aa25039:0xe36cfbefcc655a0c  ChIJOVCiih9BiEgRDFplzO_7bOM   \n..                                     ...                          ...   \n212  0x4888411f8aa25039:0xe36cfbefcc655a0c  ChIJOVCiih9BiEgRDFplzO_7bOM   \n213  0x4888411f8aa25039:0xe36cfbefcc655a0c  ChIJOVCiih9BiEgRDFplzO_7bOM   \n214  0x4888411f8aa25039:0xe36cfbefcc655a0c  ChIJOVCiih9BiEgRDFplzO_7bOM   \n215  0x4888411f8aa25039:0xe36cfbefcc655a0c  ChIJOVCiih9BiEgRDFplzO_7bOM   \n216  0x4888411f8aa25039:0xe36cfbefcc655a0c  ChIJOVCiih9BiEgRDFplzO_7bOM   \n\n                                         location_link  reviews_link  reviews  \\\n0    https://www.google.com/maps/place/South+Lanark...           NaN      217   \n1    https://www.google.com/maps/place/South+Lanark...           NaN      217   \n2    https://www.google.com/maps/place/South+Lanark...           NaN      217   \n3    https://www.google.com/maps/place/South+Lanark...           NaN      217   \n4    https://www.google.com/maps/place/South+Lanark...           NaN      217   \n..                                                 ...           ...      ...   \n212  https://www.google.com/maps/place/South+Lanark...           NaN      217   \n213  https://www.google.com/maps/place/South+Lanark...           NaN      217   \n214  https://www.google.com/maps/place/South+Lanark...           NaN      217   \n215  https://www.google.com/maps/place/South+Lanark...           NaN      217   \n216  https://www.google.com/maps/place/South+Lanark...           NaN      217   \n\n     rating                             review_id review_pagination_id  ...  \\\n0       4.1  ChdDSUhNMG9nS0VJQ0FnSURwMnNyRTVBRRAB     CAESBkVnSUlBUQ==  ...   \n1       4.1  ChdDSUhNMG9nS0VJQ0FnSURSbFBIWDdnRRAB     CAESBkVnSUlBZw==  ...   \n2       4.1   ChZDSUhNMG9nS0VJQ0FnSUR4MlltYlJ3EAE     CAESBkVnSUlBdw==  ...   \n3       4.1   ChZDSUhNMG9nS0VJQ0FnSUNKd2VxdEtBEAE     CAESBkVnSUlCQQ==  ...   \n4       4.1  ChdDSUhNMG9nS0VJQ0FnSURKMk5QV193RRAB     CAESBkVnSUlCUQ==  ...   \n..      ...                                   ...                  ...  ...   \n212     4.1   ChZDSUhNMG9nS0VJQ0FnSUNRNlp1ekNnEAE     CAESB0VnTUkxUUU=  ...   \n213     4.1   ChZDSUhNMG9nS0VJQ0FnSUNBdEtENENREAE     CAESB0VnTUkxZ0U=  ...   \n214     4.1   ChZDSUhNMG9nS0VJQ0FnSUNZdk9lR0NREAE     CAESB0VnTUkxd0U=  ...   \n215     4.1   ChZDSUhNMG9nS0VJQ0FnSUNndWJ6eUJnEAE     CAESB0VnTUkyQUU=  ...   \n216     4.1      ChRDSUhNMG9nS0VJQ0FnSURRdDVWaRAB                  NaN  ...   \n\n    review_rating review_timestamp  review_datetime_utc review_likes  \\\n0               2       1692528800  08/20/2023 10:53:20            0   \n1               3       1681831481  04/18/2023 15:24:41            2   \n2               2       1686492920  06/11/2023 14:15:20            1   \n3               3       1696852216  10/09/2023 11:50:16            0   \n4               4       1688997065  07/10/2023 13:51:05            0   \n..            ...              ...                  ...          ...   \n212             4       1500904164  07/24/2017 13:49:24            0   \n213             4       1537095313  09/16/2018 10:55:13            0   \n214             5       1554624720  04/07/2019 08:12:00            0   \n215             5       1463684073  05/19/2016 18:54:33            0   \n216             5       1470732482  08/09/2016 08:48:02            0   \n\n              reviews_id reviews_per_score_1 reviews_per_score_2  \\\n0   -2058993922270209524                  15                  13   \n1   -2058993922270209524                  15                  13   \n2   -2058993922270209524                  15                  13   \n3   -2058993922270209524                  15                  13   \n4   -2058993922270209524                  15                  13   \n..                   ...                 ...                 ...   \n212 -2058993922270209524                  15                  13   \n213 -2058993922270209524                  15                  13   \n214 -2058993922270209524                  15                  13   \n215 -2058993922270209524                  15                  13   \n216 -2058993922270209524                  15                  13   \n\n     reviews_per_score_3 reviews_per_score_4  reviews_per_score_5  \n0                     19                  62                  108  \n1                     19                  62                  108  \n2                     19                  62                  108  \n3                     19                  62                  108  \n4                     19                  62                  108  \n..                   ...                 ...                  ...  \n212                   19                  62                  108  \n213                   19                  62                  108  \n214                   19                  62                  108  \n215                   19                  62                  108  \n216                   19                  62                  108  \n\n[217 rows x 33 columns]",
      "text/html": "<div>\n<style scoped>\n    .dataframe tbody tr th:only-of-type {\n        vertical-align: middle;\n    }\n\n    .dataframe tbody tr th {\n        vertical-align: top;\n    }\n\n    .dataframe thead th {\n        text-align: right;\n    }\n</style>\n<table border=\"1\" class=\"dataframe\">\n  <thead>\n    <tr style=\"text-align: right;\">\n      <th></th>\n      <th>query</th>\n      <th>name</th>\n      <th>google_id</th>\n      <th>place_id</th>\n      <th>location_link</th>\n      <th>reviews_link</th>\n      <th>reviews</th>\n      <th>rating</th>\n      <th>review_id</th>\n      <th>review_pagination_id</th>\n      <th>...</th>\n      <th>review_rating</th>\n      <th>review_timestamp</th>\n      <th>review_datetime_utc</th>\n      <th>review_likes</th>\n      <th>reviews_id</th>\n      <th>reviews_per_score_1</th>\n      <th>reviews_per_score_2</th>\n      <th>reviews_per_score_3</th>\n      <th>reviews_per_score_4</th>\n      <th>reviews_per_score_5</th>\n    </tr>\n  </thead>\n  <tbody>\n    <tr>\n      <th>0</th>\n      <td>ChIJOVCiih9BiEgRDFplzO_7bOM</td>\n      <td>South Lanarkshire Lifestyle Eastfield</td>\n      <td>0x4888411f8aa25039:0xe36cfbefcc655a0c</td>\n      <td>ChIJOVCiih9BiEgRDFplzO_7bOM</td>\n      <td>https://www.google.com/maps/place/South+Lanark...</td>\n      <td>NaN</td>\n      <td>217</td>\n      <td>4.1</td>\n      <td>ChdDSUhNMG9nS0VJQ0FnSURwMnNyRTVBRRAB</td>\n      <td>CAESBkVnSUlBUQ==</td>\n      <td>...</td>\n      <td>2</td>\n      <td>1692528800</td>\n      <td>08/20/2023 10:53:20</td>\n      <td>0</td>\n      <td>-2058993922270209524</td>\n      <td>15</td>\n      <td>13</td>\n      <td>19</td>\n      <td>62</td>\n      <td>108</td>\n    </tr>\n    <tr>\n      <th>1</th>\n      <td>ChIJOVCiih9BiEgRDFplzO_7bOM</td>\n      <td>South Lanarkshire Lifestyle Eastfield</td>\n      <td>0x4888411f8aa25039:0xe36cfbefcc655a0c</td>\n      <td>ChIJOVCiih9BiEgRDFplzO_7bOM</td>\n      <td>https://www.google.com/maps/place/South+Lanark...</td>\n      <td>NaN</td>\n      <td>217</td>\n      <td>4.1</td>\n      <td>ChdDSUhNMG9nS0VJQ0FnSURSbFBIWDdnRRAB</td>\n      <td>CAESBkVnSUlBZw==</td>\n      <td>...</td>\n      <td>3</td>\n      <td>1681831481</td>\n      <td>04/18/2023 15:24:41</td>\n      <td>2</td>\n      <td>-2058993922270209524</td>\n      <td>15</td>\n      <td>13</td>\n      <td>19</td>\n      <td>62</td>\n      <td>108</td>\n    </tr>\n    <tr>\n      <th>2</th>\n      <td>ChIJOVCiih9BiEgRDFplzO_7bOM</td>\n      <td>South Lanarkshire Lifestyle Eastfield</td>\n      <td>0x4888411f8aa25039:0xe36cfbefcc655a0c</td>\n      <td>ChIJOVCiih9BiEgRDFplzO_7bOM</td>\n      <td>https://www.google.com/maps/place/South+Lanark...</td>\n      <td>NaN</td>\n      <td>217</td>\n      <td>4.1</td>\n      <td>ChZDSUhNMG9nS0VJQ0FnSUR4MlltYlJ3EAE</td>\n      <td>CAESBkVnSUlBdw==</td>\n      <td>...</td>\n      <td>2</td>\n      <td>1686492920</td>\n      <td>06/11/2023 14:15:20</td>\n      <td>1</td>\n      <td>-2058993922270209524</td>\n      <td>15</td>\n      <td>13</td>\n      <td>19</td>\n      <td>62</td>\n      <td>108</td>\n    </tr>\n    <tr>\n      <th>3</th>\n      <td>ChIJOVCiih9BiEgRDFplzO_7bOM</td>\n      <td>South Lanarkshire Lifestyle Eastfield</td>\n      <td>0x4888411f8aa25039:0xe36cfbefcc655a0c</td>\n      <td>ChIJOVCiih9BiEgRDFplzO_7bOM</td>\n      <td>https://www.google.com/maps/place/South+Lanark...</td>\n      <td>NaN</td>\n      <td>217</td>\n      <td>4.1</td>\n      <td>ChZDSUhNMG9nS0VJQ0FnSUNKd2VxdEtBEAE</td>\n      <td>CAESBkVnSUlCQQ==</td>\n      <td>...</td>\n      <td>3</td>\n      <td>1696852216</td>\n      <td>10/09/2023 11:50:16</td>\n      <td>0</td>\n      <td>-2058993922270209524</td>\n      <td>15</td>\n      <td>13</td>\n      <td>19</td>\n      <td>62</td>\n      <td>108</td>\n    </tr>\n    <tr>\n      <th>4</th>\n      <td>ChIJOVCiih9BiEgRDFplzO_7bOM</td>\n      <td>South Lanarkshire Lifestyle Eastfield</td>\n      <td>0x4888411f8aa25039:0xe36cfbefcc655a0c</td>\n      <td>ChIJOVCiih9BiEgRDFplzO_7bOM</td>\n      <td>https://www.google.com/maps/place/South+Lanark...</td>\n      <td>NaN</td>\n      <td>217</td>\n      <td>4.1</td>\n      <td>ChdDSUhNMG9nS0VJQ0FnSURKMk5QV193RRAB</td>\n      <td>CAESBkVnSUlCUQ==</td>\n      <td>...</td>\n      <td>4</td>\n      <td>1688997065</td>\n      <td>07/10/2023 13:51:05</td>\n      <td>0</td>\n      <td>-2058993922270209524</td>\n      <td>15</td>\n      <td>13</td>\n      <td>19</td>\n      <td>62</td>\n      <td>108</td>\n    </tr>\n    <tr>\n      <th>...</th>\n      <td>...</td>\n      <td>...</td>\n      <td>...</td>\n      <td>...</td>\n      <td>...</td>\n      <td>...</td>\n      <td>...</td>\n      <td>...</td>\n      <td>...</td>\n      <td>...</td>\n      <td>...</td>\n      <td>...</td>\n      <td>...</td>\n      <td>...</td>\n      <td>...</td>\n      <td>...</td>\n      <td>...</td>\n      <td>...</td>\n      <td>...</td>\n      <td>...</td>\n      <td>...</td>\n    </tr>\n    <tr>\n      <th>212</th>\n      <td>ChIJOVCiih9BiEgRDFplzO_7bOM</td>\n      <td>South Lanarkshire Lifestyle Eastfield</td>\n      <td>0x4888411f8aa25039:0xe36cfbefcc655a0c</td>\n      <td>ChIJOVCiih9BiEgRDFplzO_7bOM</td>\n      <td>https://www.google.com/maps/place/South+Lanark...</td>\n      <td>NaN</td>\n      <td>217</td>\n      <td>4.1</td>\n      <td>ChZDSUhNMG9nS0VJQ0FnSUNRNlp1ekNnEAE</td>\n      <td>CAESB0VnTUkxUUU=</td>\n      <td>...</td>\n      <td>4</td>\n      <td>1500904164</td>\n      <td>07/24/2017 13:49:24</td>\n      <td>0</td>\n      <td>-2058993922270209524</td>\n      <td>15</td>\n      <td>13</td>\n      <td>19</td>\n      <td>62</td>\n      <td>108</td>\n    </tr>\n    <tr>\n      <th>213</th>\n      <td>ChIJOVCiih9BiEgRDFplzO_7bOM</td>\n      <td>South Lanarkshire Lifestyle Eastfield</td>\n      <td>0x4888411f8aa25039:0xe36cfbefcc655a0c</td>\n      <td>ChIJOVCiih9BiEgRDFplzO_7bOM</td>\n      <td>https://www.google.com/maps/place/South+Lanark...</td>\n      <td>NaN</td>\n      <td>217</td>\n      <td>4.1</td>\n      <td>ChZDSUhNMG9nS0VJQ0FnSUNBdEtENENREAE</td>\n      <td>CAESB0VnTUkxZ0U=</td>\n      <td>...</td>\n      <td>4</td>\n      <td>1537095313</td>\n      <td>09/16/2018 10:55:13</td>\n      <td>0</td>\n      <td>-2058993922270209524</td>\n      <td>15</td>\n      <td>13</td>\n      <td>19</td>\n      <td>62</td>\n      <td>108</td>\n    </tr>\n    <tr>\n      <th>214</th>\n      <td>ChIJOVCiih9BiEgRDFplzO_7bOM</td>\n      <td>South Lanarkshire Lifestyle Eastfield</td>\n      <td>0x4888411f8aa25039:0xe36cfbefcc655a0c</td>\n      <td>ChIJOVCiih9BiEgRDFplzO_7bOM</td>\n      <td>https://www.google.com/maps/place/South+Lanark...</td>\n      <td>NaN</td>\n      <td>217</td>\n      <td>4.1</td>\n      <td>ChZDSUhNMG9nS0VJQ0FnSUNZdk9lR0NREAE</td>\n      <td>CAESB0VnTUkxd0U=</td>\n      <td>...</td>\n      <td>5</td>\n      <td>1554624720</td>\n      <td>04/07/2019 08:12:00</td>\n      <td>0</td>\n      <td>-2058993922270209524</td>\n      <td>15</td>\n      <td>13</td>\n      <td>19</td>\n      <td>62</td>\n      <td>108</td>\n    </tr>\n    <tr>\n      <th>215</th>\n      <td>ChIJOVCiih9BiEgRDFplzO_7bOM</td>\n      <td>South Lanarkshire Lifestyle Eastfield</td>\n      <td>0x4888411f8aa25039:0xe36cfbefcc655a0c</td>\n      <td>ChIJOVCiih9BiEgRDFplzO_7bOM</td>\n      <td>https://www.google.com/maps/place/South+Lanark...</td>\n      <td>NaN</td>\n      <td>217</td>\n      <td>4.1</td>\n      <td>ChZDSUhNMG9nS0VJQ0FnSUNndWJ6eUJnEAE</td>\n      <td>CAESB0VnTUkyQUU=</td>\n      <td>...</td>\n      <td>5</td>\n      <td>1463684073</td>\n      <td>05/19/2016 18:54:33</td>\n      <td>0</td>\n      <td>-2058993922270209524</td>\n      <td>15</td>\n      <td>13</td>\n      <td>19</td>\n      <td>62</td>\n      <td>108</td>\n    </tr>\n    <tr>\n      <th>216</th>\n      <td>ChIJOVCiih9BiEgRDFplzO_7bOM</td>\n      <td>South Lanarkshire Lifestyle Eastfield</td>\n      <td>0x4888411f8aa25039:0xe36cfbefcc655a0c</td>\n      <td>ChIJOVCiih9BiEgRDFplzO_7bOM</td>\n      <td>https://www.google.com/maps/place/South+Lanark...</td>\n      <td>NaN</td>\n      <td>217</td>\n      <td>4.1</td>\n      <td>ChRDSUhNMG9nS0VJQ0FnSURRdDVWaRAB</td>\n      <td>NaN</td>\n      <td>...</td>\n      <td>5</td>\n      <td>1470732482</td>\n      <td>08/09/2016 08:48:02</td>\n      <td>0</td>\n      <td>-2058993922270209524</td>\n      <td>15</td>\n      <td>13</td>\n      <td>19</td>\n      <td>62</td>\n      <td>108</td>\n    </tr>\n  </tbody>\n</table>\n<p>217 rows × 33 columns</p>\n</div>"
     },
     "execution_count": 2,
     "metadata": {},
     "output_type": "execute_result"
    }
   ],
   "source": [
    "# Import the data and view it\n",
    "df_reviews = pd.read_csv('data/reviews.csv')\n",
    "df_reviews"
   ],
   "metadata": {
    "collapsed": false,
    "ExecuteTime": {
     "end_time": "2023-11-07T22:01:04.419381147Z",
     "start_time": "2023-11-07T22:01:04.412162272Z"
    }
   },
   "id": "5df386a2258cf8a1"
  },
  {
   "cell_type": "markdown",
   "source": [
    "With some exploring the text reviews stop at row 115, so we'll subset there."
   ],
   "metadata": {
    "collapsed": false
   },
   "id": "7d0bbc7f69f8ab6"
  },
  {
   "cell_type": "code",
   "execution_count": 3,
   "outputs": [
    {
     "name": "stdout",
     "output_type": "stream",
     "text": [
      "Visited today for a swim with my 3 kids. Changing rooms were filthy, and mould in places obviously from stagnant water. Used plasters on the floor in 2 of the cubicles and hair everywhere.\n",
      "Showers were so hot next to the pool that it was not safe to shower with the 2 youngest. The in cubical showers had a better temperature, but the water trickled out meaning it took ages to wash out shampoo.\n",
      "The place needs a deep clean and restrictions on numbers allowed in when over half the pool is shut off for lessons. Staff looked like they didn’t want to be there. Not a great venue with these points in mind. Great wee gym, but is a wee bit too small and some of the exercise bikes, rowing machines and treadmills are out of order. It really needs new modern exercise equipment, but councils are on a budget. The gym itself is clean and tidy and the staff are very helpful and polite. In addition to the gym there is also a swimming pool, sauna and steam room and they are as good as anything I’ve used elsewhere. Very clean and tidy and of a decent size too.\n",
      "\n",
      "The whole centre is clean and tidy, staff are brilliant, extremely professional and I would highly recommend these facilities to anyone in the South Lanarkshire area. If they upgrade the equipment, which is constrained by budgets, then I would happily give the centre a full 5 stars. Alright equipment but there's too many people in such a small area, far to many school kids. The gym needs air conditioning asap, it's just far too warm in the gym as well as how many people there is. Another downside to this place is the swimming, you are never able to get a slot to go swimming because of how many lessons there are. Personally if you can, you should go to the dollan baths in east Kilbride because how much better the place is. Unaware ladies aquafit on this morning,absolutely no problem with that,however,would like to have been notified beforehand,as unable to complete any lengths! Is this now a regular booking? Excellent facility staffed by friendly people who cannot do enough to help. Pool, Gym very good, only issue which can be annoying is the constant restrictions in the pool. My oldest son attended swimming lessons here and now my youngest does (10 year age gap). Staff are all absolutely fantastic and the place is very clean and very well ran. My kids have loved their lessons here and I have enjoyed taking them. Only issue I have had is parents reserving changing rooms and recently to my surprise, some reserving showers! for their kids finishing their lessons which is very selfish behaviour. When the staff are notified they are very quick and professional to stop this behaviour. Apart from this, the place is brilliant and I highly recommended it. Decent gym but the opening hours aren't great. The last hour open, pre CV-19, was always fairly relaxed but now it's pretty rammed - as one poster comments, more school kids hanging around the machines makes it a less enjoyable experience than before Alright gym, needs new equipment and is in DESPRATE need in Air conditioning. Either to hot and unable to work out or really unbearabley stuffy Pool, lockers and changing room really in need of refreshment. Water at the poolside pools in uneven tiles causing stagnant water and mold. All the machines in the gym look second hand and all different brands, generally 3 out of service. Only 3 or 4 kettlebells on offer and no slam balls. The gym is often full of kids pranking each other or stomping on the treadmills.\n",
      "\n",
      "If you attend a class later on and put stuff in changing room, expect them to be locked and you'll get moaned at for using them after 8pm.\n",
      "\n",
      "It's convenient but I must say the class and yoga instructors are fab, can't fault them its the environment and equipment that's poor. Good value for money, use of the gym, swimming pool with sauna room included for a monthly fee around £23. The staff are really good but what let's the gym down is the amount of school kids that use this gym, sometimes there are so many you cannot get on any equipment. I've seen people walk into the gym, see it full of kids then walk out again, I also know a few people who have quit the gym due to this as well. A good leisure centre with helpful staff. Well air-conditioned which is a must.\n",
      "Went to a kids' pool party today, well set up by helpful staff. The wee kitchenette part was ideal for party food and party games. Great day. A place to visit - good gym, nice swimming pool and warm characters from staff. Good community facility although can be restricted due to swimming lessons taking place etc. Been caught out a few times with this meaning no access to sauna or steam room despite paying for a full membership. Great place for kids to learn to swim Had an induction for the gym this morning and I was shown round by Ross who was very helpful and explained everything clearly to understand and make it easy to remember the different ways on how to get the best out of your workout\n",
      "Lovely Reception staff also and there is a swimming pool, includes a steam room and sauna\n",
      "Would definitely recommend\n",
      "Overall a great experience Been a been a member for years and overall an excellent facility.  However the shower panels at pool need replaced as moldy, presume this will be undertaken soon as off putting. Staff very helpful. Girls love going here for there swimming lessons staff are lovely Great place for a kids birthday party.\n",
      "Loads of toys to keep the kids amused, and a bouncy castle.\n",
      "And the staff couldn't have been more helpful!\n",
      "Highly recommended... 11/10 The gym is small but usually not crowded so I always got a good workout.  A range of age groups use the facilities. I was disappointed to see the leg curl machine as being out of order one day but this had been fixed by my next visit a day or two later without me mentioning it, so they must have been aware and on top of it. The reception staff are very polite and friendly. The gym staff are all very helpful when approached. However there are often a lot of kids hanging around due to Trinity High being next door; the staff in this gym have a duty to ensure the safety of its customers, especially children. They should not be using the equipment unless supervised by an adult. On one occasion I saw a group of five children who looked pre-teen, using the free weights unsupervised with no adult or trainer in sight. Due to their lack of knowledge they had poor form which could very easily have resulted in injury; which I found myself having to be vigilant of- but this is the staff's responsibility. I did not use the pool so cannot comment on the cleanliness of this and the adjacent changing area. However, the dry gym changing area often has a wet floor due to there being no designated drying area between the showers and the changing room and people then come directly through the door from the pool which just makes things worse if your socks fall on the ground. I only used the showers once  and had to have my hand on the control the whole time otherwise the water would stop. I resorted to just having a shower at home after my workout. There was a sign up warning people not to leave 'used adult nappies' lying on the floor- absolutely disgusting but this is the way some people treat their fellow gym-goers and is beyond control of the staff. Even so I'd say the shower area needs an overhaul because of the points mentioned together with mouldy grout lines which just looks unsightly and unhygienic. I would be happy to go back to this gym if they updated it a bit and above all made sure that children were supervised at all times if they continue to be allowed to attend. Excellent trainers, easy going and brilliant to speak with. They can answer your questions in an easy to understand way. They never speak down to you. Love it A place that has everything we use this weekly as. Family Friendly, knowledgeable staff. Lots of equipment, at least enough for me even when they're busy. Could do with a longer opening time over Xmas/New Year the days they are open as not everyone was able to make it before 4pm due to their own work commitments Very good facility with nice friendly staff. Very popular with members, like me! Welcoming and accessible swimming pool. Liz on reception and Jaime, showed us accessible changing room.  Made us feel very welcome. Great place to go for a swim early morning plus health suite if you want it its starting to fall apart , only one hot room open and the pool is absalut freezing , , south lanarkshire is falling apart in a big way , absalut shamefull , not to mention the other carparks are getting used for all the covid testars , a health center next to a covid center , opps , and a high school , not to mentiong hamilton water pallace , its only the big pool and the pirate ship thats open , the pirate ship is rally good , but the rest is shockingly falling apart, The staff are great ... The gym is well good had a good workout was 40 minutes on the bike Absolutely fantastic leisure centre! All fitness staff are highly qualified and go out of their way to advise and support in the many different classes available. Pool is superb. Reception, cafe staff are lovely also! A great place to go. Usually go to gym first then swim. Would advise looking at pool timetable first though as you can be caught out if not aware of certain restrictions.  Great gym +  swim changing rooms. Feel that outdoor changing rooms just a wee bit isolated but nice + quiet if that's what your looking for... On the whole it's a great facility and would recommend... Friendly staff.  Gym has good equipment.  I tend to go on a Sunday, my only concern is the amount of time the pool is closed for private lessons or parties.  Apart from that this is a great place to work out Expensive with out of date machinery. I got a concession card in 2014 when I was in a homeless hostel. I didn't use the free service due to circumstances. I have mental health issues and I was given a pass from my nurse a few months ago to help after a period if isolation. The staff member boldly told me I couldn't use the services with the NHS referral card because I had one on 2014. I tried explaining to the staff member that I didn't use the referral due to circumstances. I was rudely told \"it doesn't matter, you've had it, your not getting another one\". I've joined the GYM on Argyle Street for a fraction of the price, classes included for £15:99. I was deeply embarrassed and offended. I'm positive the feedback on here must be from staff or friends who work at the place. I won't be attending ever. The staff at the GYM are superb amd i didn't need to explain how I'm embarrassed about my health concerns. 💩 Decent swimming pool, nice and clean, not too busy Customer service Is ridiculous and the gym has almost no equipment and the amount of people there for such a small place Excellent, very friendly approachable staff members. This a great gym  I love it. Starting to get light in the morning, fantastic start to the day.  Staff very friendly and helpful. Good little place, got what you need to get the job done and the price is great it has a pool gym and more No WiFi. This is not the best gym I have ever been to. Also, lots of school kids messing with their phones instead of exercising. Great place friendly and helpful staff Lovely clean pool Took daughter to gym this morning at 9am and it is closed. Called up and answering machine does not give Xmas hours. Rubbish service, why would it be closed on Xmas Eve and why not communicate to customers? We had a child  birthday party in  there hired  part of the pool and a room at the back  great fun took our own buffet  great  value  kids all had a good time Clean, tidy, good staff well trained. All round excellent sports inside and out. Well maintained work out gym with trained qualified staff Great for the local users now that it is now open worth the vist if you wish to start gym and swimming. swimming pools closed for teachers not in her s Decent pool and building looks smaller than it actually is, gym and fitness rooms with pitches outside aswell, 5 minutes from cambuslang train station Decent leisure Centre with good facilities. The staff are what make this place though. Staff are really good . Friendly approachable and really helpful Dirty cubicles, floors, showers (missing tiles) and toilets. No space to swim, entire shallow end closed off, then pool halved with one entire half of the pool for one little boy to get a swimming lesson while the entire shallow end was for the same, the other shallow end for babies to swim in. 35% of the pool for the public which was full of kids jumping in. A play pool, not a swimming pool, regardless of timetables, this should never happen. Love going to aqua fit .really enjoy it .girls at the desk are brilliant .and very helpfull . changing rooms are smelly.  Also you cant see your kids when they are at a swimming lesson as viewing window is at wrong end of pool for floating floor. Went to weigh to go fitness for the first time really enjoyed it can't wait till next week Good morning at body pump and gym 🏋️‍♀️ followed by swim 🏊‍♀️ and sauna\n",
      "\n",
      "Recommended! This is a great place for the whole family and the community to get fit and meet friends really good place. The swimming pool is a good size but the changing rooms were really smelly. Very unhygienic and unpleasant Bit pricey but most council  gyms are  . Good 4 a swim and classes.  Very friendly staff Staff member very polite and helpful. Great service! Staff are very helpful and had a lovely day A well equipped facility, classes really good and well attended, staff and fellow users very friendly and helpful Great timetable of fitness classes for all ages & abilities. Good gym & pool. Very good staff, always helpful.  Place is spotless. Good facilities and parking Love this place. Great gym, great classes and everyone is very friendly 😍 Great swimming.  Staff very helpful . Brilliant local gym, clean modern equipment but no paper towels Steam room is  total disgrace too cramped can only fit 4-5 people in it and it is in urgent need of refurbishment tiles are all black mould and broken must not be cleaning at end of night Not recommended  if you like to swim in a pool  bigger than a small suburban  garden that is if it is not roped off for swimming  classes!!! Excellent advice and help from Carolynn. Great swimming pool and other activities to keep you fit. Speedy Shaun disapproves. I cannae swum rght but that shouldnae be a ploblem, they also sell out of date m&m's, wit a joke man. Expensive for membership and can never get a decent swim from the amount of classes taking place. Clean bright, good equipment, helpful staff and friendly atmosphere I wasn't welcomed on my 1st visit .\n",
      "I was hoping to try and get fitter.\n",
      "I wouldn't recommend to anyone !!\n",
      "Russell Outdoor and indoor facilities including, 5 a side pitches, swimming pool and gym Just joined recently but enjoy the gym, pool and sauna. The steamroom doesn't provide enough steam to get proper health benefits from it. Brilliant well done to staff getting things in order with these difficult times Great facilities Good variety of sports and facilities\n",
      "Clean and great parking Good local facilities. Only issue is that it is expensive for memberships Helpful staff, clean and tidy facilities. Lots of free parking. Staff are very helpful, cafe is currently closed Cannot fault the staff or cleanliness...great atmosphere for all Me and my son go swimming here every friday night about 8.30pm . Not good food wasnt great service was terrible Not for me the gym but friendly and very nice people Excellent workout equipment and experience Always enjoy my swim. Great community centre and library with lots going on xxx Every day Great place to exercise and swim Canny get them on phone saying its closed but times i phone on web saying open  ! Great place sooner its open the better Excellent well run facility! Really smelly pool not the cleanest Great gym great staff Amyrahs swimming she loves it. Lessons r worth the money Very good My favourite sport centre It's ok. Nice pool Good swimming facilities Friendly PTs and loads of classes No wifi!!! Loved it Good customer service Car got scratched Great shopping centre . Not the best Dirty unclean Great facilities Great pool Home of Rutherglen ASC Good place to be Good swimming Lovely\n"
     ]
    }
   ],
   "source": [
    "# Ensure the review_text column is of type string\n",
    "df_reviews['review_text'] = df_reviews['review_text'].astype(str)\n",
    "\n",
    "# Get all reviews up to row 115\n",
    "subset_df = df_reviews.loc[:115, 'review_text']\n",
    "\n",
    "# Convert each row to a list of words, concatenate them all into one list\n",
    "reviews = ' '.join(subset_df.tolist())\n",
    "\n",
    "print(reviews)"
   ],
   "metadata": {
    "collapsed": false,
    "ExecuteTime": {
     "end_time": "2023-11-07T22:01:04.508559337Z",
     "start_time": "2023-11-07T22:01:04.414573117Z"
    }
   },
   "id": "b7bc2269aeb279c8"
  },
  {
   "cell_type": "markdown",
   "source": [
    "Before we can make a wordcloud, we need to prepare things"
   ],
   "metadata": {
    "collapsed": false
   },
   "id": "2a2186d283530cb8"
  },
  {
   "cell_type": "code",
   "execution_count": 4,
   "outputs": [],
   "source": [
    "# regular expression import\n",
    "import re\n",
    "\n",
    "# uni-code library\n",
    "import unicodedata\n",
    "\n",
    "# natural language toolkit library/modules\n",
    "import nltk\n",
    "from nltk.tokenize.toktok import ToktokTokenizer\n",
    "from nltk.corpus import stopwords\n",
    "\n",
    "def basic_clean(string):\n",
    "    '''\n",
    "    This function takes in a string and\n",
    "    returns the string normalized.\n",
    "    '''\n",
    "    string = unicodedata.normalize('NFKD', string) \\\n",
    "        .encode('ascii', 'ignore') \\\n",
    "        .decode('utf-8', 'ignore')\n",
    "    string = re.sub(r'[^\\w\\s]', '', string).lower()\n",
    "    return string\n",
    "\n",
    "def tokenize(string):\n",
    "    '''\n",
    "    This function takes in a string and\n",
    "    returns a tokenized string.\n",
    "    '''\n",
    "    # Create tokenizer.\n",
    "    tokenizer = nltk.tokenize.ToktokTokenizer()\n",
    "\n",
    "    # Use tokenizer\n",
    "    string = tokenizer.tokenize(string, return_str = True)\n",
    "\n",
    "    return string\n",
    "\n",
    "def stem(string):\n",
    "    '''\n",
    "    This function takes in a string and\n",
    "    returns a string with words stemmed.\n",
    "    '''\n",
    "    # Create porter stemmer.\n",
    "    ps = nltk.porter.PorterStemmer()\n",
    "\n",
    "    # Use the stemmer to stem each word in the list of words we created by using split.\n",
    "    stems = [ps.stem(word) for word in string.split()]\n",
    "\n",
    "    # Join our lists of words into a string again and assign to a variable.\n",
    "    string = ' '.join(stems)\n",
    "\n",
    "    return string\n",
    "\n",
    "def lemmatize(string):\n",
    "    '''\n",
    "    This function takes in string for and\n",
    "    returns a string with words lemmatized.\n",
    "    '''\n",
    "    # Create the lemmatizer.\n",
    "    wnl = nltk.stem.WordNetLemmatizer()\n",
    "\n",
    "    # Use the lemmatizer on each word in the list of words we created by using split.\n",
    "    lemmas = [wnl.lemmatize(word) for word in string.split()]\n",
    "\n",
    "    # Join our list of words into a string again and assign to a variable.\n",
    "    string = ' '.join(lemmas)\n",
    "\n",
    "    return string\n",
    "\n",
    "def remove_stopwords(string, extra_words = [], exclude_words = []):\n",
    "    '''\n",
    "    This function takes in a string, optional extra_words and exclude_words parameters\n",
    "    with default empty lists and returns a string.\n",
    "    '''\n",
    "    # Create stopword_list.\n",
    "    stopword_list = stopwords.words('english')\n",
    "\n",
    "    # Remove 'exclude_words' from stopword_list to keep these in my text.\n",
    "    stopword_list = set(stopword_list) - set(exclude_words)\n",
    "\n",
    "    # Add in 'extra_words' to stopword_list.\n",
    "    stopword_list = stopword_list.union(set(extra_words))\n",
    "\n",
    "    # Split words in string.\n",
    "    words = string.split()\n",
    "\n",
    "    # Create a list of words from my string with stopwords removed and assign to variable.\n",
    "    filtered_words = [word for word in words if word not in stopword_list]\n",
    "\n",
    "    # Join words in the list back into strings and assign to a variable.\n",
    "    string_without_stopwords = ' '.join(filtered_words)\n",
    "\n",
    "    return string_without_stopwords\n",
    "\n",
    "def clean(text):\n",
    "    '''\n",
    "    This function combines the above steps and added extra stop words to clean text\n",
    "    '''\n",
    "    return remove_stopwords(lemmatize(basic_clean(text)))"
   ],
   "metadata": {
    "collapsed": false,
    "ExecuteTime": {
     "end_time": "2023-11-07T22:01:05.095476978Z",
     "start_time": "2023-11-07T22:01:04.453931427Z"
    }
   },
   "id": "3cf515d2a9e16752"
  },
  {
   "cell_type": "code",
   "execution_count": 5,
   "outputs": [],
   "source": [
    "# Cleaning the data\n",
    "clean_reviews = clean(reviews)"
   ],
   "metadata": {
    "collapsed": false,
    "ExecuteTime": {
     "end_time": "2023-11-07T22:01:05.973743084Z",
     "start_time": "2023-11-07T22:01:05.095827860Z"
    }
   },
   "id": "85cdf318871d9a8b"
  },
  {
   "cell_type": "code",
   "execution_count": 6,
   "outputs": [],
   "source": [
    "import matplotlib.pyplot as plt\n",
    "%matplotlib inline"
   ],
   "metadata": {
    "collapsed": false,
    "ExecuteTime": {
     "end_time": "2023-11-07T22:01:06.344151734Z",
     "start_time": "2023-11-07T22:01:05.974678044Z"
    }
   },
   "id": "b41c98fb6d5764a0"
  },
  {
   "cell_type": "code",
   "execution_count": 18,
   "outputs": [
    {
     "data": {
      "text/plain": "array([[[255, 255, 255],\n        [255, 255, 255],\n        [255, 255, 255],\n        ...,\n        [255, 255, 255],\n        [255, 255, 255],\n        [255, 255, 255]],\n\n       [[255, 255, 255],\n        [255, 255, 255],\n        [255, 255, 255],\n        ...,\n        [255, 255, 255],\n        [255, 255, 255],\n        [255, 255, 255]],\n\n       [[255, 255, 255],\n        [255, 255, 255],\n        [255, 255, 255],\n        ...,\n        [255, 255, 255],\n        [255, 255, 255],\n        [255, 255, 255]],\n\n       ...,\n\n       [[255, 255, 255],\n        [255, 255, 255],\n        [255, 255, 255],\n        ...,\n        [255, 255, 255],\n        [255, 255, 255],\n        [255, 255, 255]],\n\n       [[255, 255, 255],\n        [255, 255, 255],\n        [255, 255, 255],\n        ...,\n        [255, 255, 255],\n        [255, 255, 255],\n        [255, 255, 255]],\n\n       [[255, 255, 255],\n        [255, 255, 255],\n        [255, 255, 255],\n        ...,\n        [255, 255, 255],\n        [255, 255, 255],\n        [255, 255, 255]]], dtype=uint8)"
     },
     "execution_count": 18,
     "metadata": {},
     "output_type": "execute_result"
    }
   ],
   "source": [
    "import numpy as np\n",
    "from PIL import Image\n",
    "sllc_mask = np.array(Image.open('./SLLC-Logo-4k.jpg'))\n",
    "sllc_mask"
   ],
   "metadata": {
    "collapsed": false,
    "ExecuteTime": {
     "end_time": "2023-11-07T22:26:24.376116537Z",
     "start_time": "2023-11-07T22:26:24.315125481Z"
    }
   },
   "id": "5a8053bea6b809bb"
  },
  {
   "cell_type": "code",
   "execution_count": 20,
   "outputs": [],
   "source": [
    "# Switch to a white space method\n",
    "mask_255 = sllc_mask == 255\n",
    "\n",
    "# Replace 255 with 0 and 0 with 255 using the mask\n",
    "sllc_mask[mask_255] = 0\n",
    "sllc_mask[~mask_255] = 255"
   ],
   "metadata": {
    "collapsed": false,
    "ExecuteTime": {
     "end_time": "2023-11-07T22:29:32.086001279Z",
     "start_time": "2023-11-07T22:29:32.053804266Z"
    }
   },
   "id": "db568286007b50ae"
  },
  {
   "cell_type": "code",
   "execution_count": 21,
   "outputs": [],
   "source": [
    "for i in range(5, 10):\n",
    "    wc = WordCloud(collocation_threshold = i, background_color='indigo', colormap = 'bone', width= 3840, height=2160, mask = sllc_mask).generate(clean_reviews)\n",
    "    plt.imshow(wc)\n",
    "\n",
    "    # Don't use axes\n",
    "    plt.axis('off')\n",
    "\n",
    "    # Save the image in the 'outputs' directory\n",
    "    wc.to_file(f'outputs/wc_{i}.png')\n",
    "\n",
    "    # This will close the matplotlib plt window after each save\n",
    "    plt.close()"
   ],
   "metadata": {
    "collapsed": false,
    "ExecuteTime": {
     "end_time": "2023-11-07T22:30:39.252216161Z",
     "start_time": "2023-11-07T22:29:34.304491642Z"
    }
   },
   "id": "30f66761dc1774ab"
  },
  {
   "cell_type": "code",
   "execution_count": null,
   "outputs": [],
   "source": [],
   "metadata": {
    "collapsed": false,
    "ExecuteTime": {
     "end_time": "2023-11-07T22:01:06.553152576Z",
     "start_time": "2023-11-07T22:01:06.549590973Z"
    }
   },
   "id": "e035888502aef981"
  }
 ],
 "metadata": {
  "kernelspec": {
   "display_name": "Python 3",
   "language": "python",
   "name": "python3"
  },
  "language_info": {
   "codemirror_mode": {
    "name": "ipython",
    "version": 2
   },
   "file_extension": ".py",
   "mimetype": "text/x-python",
   "name": "python",
   "nbconvert_exporter": "python",
   "pygments_lexer": "ipython2",
   "version": "2.7.6"
  }
 },
 "nbformat": 4,
 "nbformat_minor": 5
}
